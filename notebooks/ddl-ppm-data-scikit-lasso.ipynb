{
 "metadata": {
  "name": "",
  "signature": "sha256:a10ea53ead6992bab627df884f53f4f9bef1eff9585232eacb5cc46be2db50ed"
 },
 "nbformat": 3,
 "nbformat_minor": 0,
 "worksheets": [
  {
   "cells": [
    {
     "cell_type": "code",
     "collapsed": false,
     "input": [
      "import pandas as pd\n",
      "from matplotlib import pyplot as plt\n",
      "\n",
      "%matplotlib inline"
     ],
     "language": "python",
     "metadata": {},
     "outputs": [],
     "prompt_number": 2
    },
    {
     "cell_type": "code",
     "collapsed": false,
     "input": [
      "empl_data = pd.read_csv('fixtures/training_data.csv')\n",
      "test_data = pd.read_csv('fixtures/test_data.csv')"
     ],
     "language": "python",
     "metadata": {},
     "outputs": [],
     "prompt_number": 13
    },
    {
     "cell_type": "code",
     "collapsed": false,
     "input": [
      "print empl_data.shape\n",
      "print test_data.shape"
     ],
     "language": "python",
     "metadata": {},
     "outputs": [
      {
       "output_type": "stream",
       "stream": "stdout",
       "text": [
        "(108, 34)\n",
        "(12, 34)\n"
       ]
      }
     ],
     "prompt_number": 15
    },
    {
     "cell_type": "code",
     "collapsed": false,
     "input": [
      "empl_data.head()"
     ],
     "language": "python",
     "metadata": {},
     "outputs": [
      {
       "html": [
        "<div style=\"max-height:1000px;max-width:1500px;overflow:auto;\">\n",
        "<table border=\"1\" class=\"dataframe\">\n",
        "  <thead>\n",
        "    <tr style=\"text-align: right;\">\n",
        "      <th></th>\n",
        "      <th>job_growth</th>\n",
        "      <th>job_growth_per</th>\n",
        "      <th>job_growth_min_1</th>\n",
        "      <th>job_growth_min_3</th>\n",
        "      <th>job_growth_min_6</th>\n",
        "      <th>job_growth_min_12</th>\n",
        "      <th>bls_avg_weeks_unemp_per</th>\n",
        "      <th>avg_weeks_unemp</th>\n",
        "      <th>avg_weeks_unemp_min_1</th>\n",
        "      <th>avg_weeks_unemp_min_3</th>\n",
        "      <th>...</th>\n",
        "      <th>taxes_min_1</th>\n",
        "      <th>taxes_min_3</th>\n",
        "      <th>taxes_min_6</th>\n",
        "      <th>taxes_min_12</th>\n",
        "      <th>outlays</th>\n",
        "      <th>spending</th>\n",
        "      <th>spending_min_1</th>\n",
        "      <th>spending_min_3</th>\n",
        "      <th>spending_min_6</th>\n",
        "      <th>spending_min_12</th>\n",
        "    </tr>\n",
        "  </thead>\n",
        "  <tbody>\n",
        "    <tr>\n",
        "      <th>0</th>\n",
        "      <td> 0.085638</td>\n",
        "      <td> 0.000856</td>\n",
        "      <td>-0.075590</td>\n",
        "      <td> 0.175644</td>\n",
        "      <td> 0.274477</td>\n",
        "      <td> 0.050552</td>\n",
        "      <td> 19.5</td>\n",
        "      <td>-6.8</td>\n",
        "      <td>-6.890756</td>\n",
        "      <td>-6.790756</td>\n",
        "      <td>...</td>\n",
        "      <td> 19419</td>\n",
        "      <td>-59434</td>\n",
        "      <td>-61915</td>\n",
        "      <td>-104321</td>\n",
        "      <td> 194111</td>\n",
        "      <td>-64514</td>\n",
        "      <td>-40315</td>\n",
        "      <td>-65111</td>\n",
        "      <td>-55050</td>\n",
        "      <td>-69916</td>\n",
        "    </tr>\n",
        "    <tr>\n",
        "      <th>1</th>\n",
        "      <td> 0.099825</td>\n",
        "      <td> 0.000998</td>\n",
        "      <td> 0.085638</td>\n",
        "      <td> 0.357112</td>\n",
        "      <td> 0.012181</td>\n",
        "      <td>-0.064240</td>\n",
        "      <td> 19.1</td>\n",
        "      <td>-7.2</td>\n",
        "      <td>-6.790756</td>\n",
        "      <td>-6.590756</td>\n",
        "      <td>...</td>\n",
        "      <td>  5887</td>\n",
        "      <td>-61783</td>\n",
        "      <td>-58601</td>\n",
        "      <td> -63905</td>\n",
        "      <td> 214660</td>\n",
        "      <td>-43965</td>\n",
        "      <td>-64514</td>\n",
        "      <td>-66908</td>\n",
        "      <td>-79764</td>\n",
        "      <td>-53288</td>\n",
        "    </tr>\n",
        "    <tr>\n",
        "      <th>2</th>\n",
        "      <td> 0.191616</td>\n",
        "      <td> 0.001916</td>\n",
        "      <td> 0.099825</td>\n",
        "      <td>-0.075590</td>\n",
        "      <td>-0.061617</td>\n",
        "      <td> 0.163955</td>\n",
        "      <td> 19.5</td>\n",
        "      <td>-6.8</td>\n",
        "      <td>-7.190756</td>\n",
        "      <td>-6.890756</td>\n",
        "      <td>...</td>\n",
        "      <td>-95459</td>\n",
        "      <td> 19419</td>\n",
        "      <td> 11021</td>\n",
        "      <td>  23761</td>\n",
        "      <td> 220483</td>\n",
        "      <td>-38142</td>\n",
        "      <td>-43965</td>\n",
        "      <td>-40315</td>\n",
        "      <td>-75885</td>\n",
        "      <td>-56112</td>\n",
        "    </tr>\n",
        "    <tr>\n",
        "      <th>3</th>\n",
        "      <td> 0.426579</td>\n",
        "      <td> 0.004266</td>\n",
        "      <td> 0.191616</td>\n",
        "      <td> 0.085638</td>\n",
        "      <td> 0.175644</td>\n",
        "      <td> 0.124027</td>\n",
        "      <td> 19.6</td>\n",
        "      <td>-6.7</td>\n",
        "      <td>-6.790756</td>\n",
        "      <td>-6.790756</td>\n",
        "      <td>...</td>\n",
        "      <td>-47571</td>\n",
        "      <td>  5887</td>\n",
        "      <td>-59434</td>\n",
        "      <td> -80880</td>\n",
        "      <td> 219690</td>\n",
        "      <td>-38935</td>\n",
        "      <td>-38142</td>\n",
        "      <td>-64514</td>\n",
        "      <td>-65111</td>\n",
        "      <td>-80712</td>\n",
        "    </tr>\n",
        "    <tr>\n",
        "      <th>4</th>\n",
        "      <td> 0.251320</td>\n",
        "      <td> 0.002513</td>\n",
        "      <td> 0.426579</td>\n",
        "      <td> 0.099825</td>\n",
        "      <td> 0.357112</td>\n",
        "      <td> 0.231902</td>\n",
        "      <td> 18.6</td>\n",
        "      <td>-7.7</td>\n",
        "      <td>-6.690756</td>\n",
        "      <td>-7.190756</td>\n",
        "      <td>...</td>\n",
        "      <td> 81284</td>\n",
        "      <td>-95459</td>\n",
        "      <td>-61783</td>\n",
        "      <td>  18052</td>\n",
        "      <td> 188920</td>\n",
        "      <td>-69705</td>\n",
        "      <td>-38935</td>\n",
        "      <td>-43965</td>\n",
        "      <td>-66908</td>\n",
        "      <td>-63367</td>\n",
        "    </tr>\n",
        "  </tbody>\n",
        "</table>\n",
        "<p>5 rows \u00d7 48 columns</p>\n",
        "</div>"
       ],
       "metadata": {},
       "output_type": "pyout",
       "prompt_number": 5,
       "text": [
        "   job_growth  job_growth_per  job_growth_min_1  job_growth_min_3  \\\n",
        "0    0.085638        0.000856         -0.075590          0.175644   \n",
        "1    0.099825        0.000998          0.085638          0.357112   \n",
        "2    0.191616        0.001916          0.099825         -0.075590   \n",
        "3    0.426579        0.004266          0.191616          0.085638   \n",
        "4    0.251320        0.002513          0.426579          0.099825   \n",
        "\n",
        "   job_growth_min_6  job_growth_min_12  bls_avg_weeks_unemp_per  \\\n",
        "0          0.274477           0.050552                     19.5   \n",
        "1          0.012181          -0.064240                     19.1   \n",
        "2         -0.061617           0.163955                     19.5   \n",
        "3          0.175644           0.124027                     19.6   \n",
        "4          0.357112           0.231902                     18.6   \n",
        "\n",
        "   avg_weeks_unemp  avg_weeks_unemp_min_1  avg_weeks_unemp_min_3  \\\n",
        "0             -6.8              -6.890756              -6.790756   \n",
        "1             -7.2              -6.790756              -6.590756   \n",
        "2             -6.8              -7.190756              -6.890756   \n",
        "3             -6.7              -6.790756              -6.790756   \n",
        "4             -7.7              -6.690756              -7.190756   \n",
        "\n",
        "           ...            taxes_min_1  taxes_min_3  taxes_min_6  taxes_min_12  \\\n",
        "0          ...                  19419       -59434       -61915       -104321   \n",
        "1          ...                   5887       -61783       -58601        -63905   \n",
        "2          ...                 -95459        19419        11021         23761   \n",
        "3          ...                 -47571         5887       -59434        -80880   \n",
        "4          ...                  81284       -95459       -61783         18052   \n",
        "\n",
        "   outlays  spending  spending_min_1  spending_min_3  spending_min_6  \\\n",
        "0   194111    -64514          -40315          -65111          -55050   \n",
        "1   214660    -43965          -64514          -66908          -79764   \n",
        "2   220483    -38142          -43965          -40315          -75885   \n",
        "3   219690    -38935          -38142          -64514          -65111   \n",
        "4   188920    -69705          -38935          -43965          -66908   \n",
        "\n",
        "   spending_min_12  \n",
        "0           -69916  \n",
        "1           -53288  \n",
        "2           -56112  \n",
        "3           -80712  \n",
        "4           -63367  \n",
        "\n",
        "[5 rows x 48 columns]"
       ]
      }
     ],
     "prompt_number": 5
    },
    {
     "cell_type": "code",
     "collapsed": false,
     "input": [
      "fig, axs = plt.subplots(1, 3, sharey=True)\n",
      "empl_data.plot(kind='scatter', x='cpi_idx', y='job_growth', ax=axs[0], figsize=(16,8))\n",
      "empl_data.plot(kind='scatter', x='cpi_index_min_3', y='job_growth', ax=axs[1], figsize=(16,8))\n",
      "empl_data.plot(kind='scatter', x='cpi_index_min_12', y='job_growth', ax=axs[2], figsize=(16,8))"
     ],
     "language": "python",
     "metadata": {},
     "outputs": [
      {
       "metadata": {},
       "output_type": "pyout",
       "prompt_number": 6,
       "text": [
        "<matplotlib.axes._subplots.AxesSubplot at 0x10bb63950>"
       ]
      },
      {
       "metadata": {},
       "output_type": "display_data",
       "png": "[encoded data removed]",
       "text": [
        "<matplotlib.figure.Figure at 0x10b9ccc10>"
       ]
      }
     ],
     "prompt_number": 6
    },
    {
     "cell_type": "code",
     "collapsed": false,
     "input": [
      "# follow the usual sklearn pattern: import, instantiate, fit\n",
      "from sklearn import linear_model\n",
      "regr = linear_model.Lasso(alpha=.3)"
     ],
     "language": "python",
     "metadata": {},
     "outputs": [],
     "prompt_number": 16
    },
    {
     "cell_type": "code",
     "collapsed": false,
     "input": [
      "# using scikit-learn\n",
      "feature_cols = ['job_growth_min_1',\n",
      " 'job_growth_min_3',\n",
      " 'job_growth_min_6',\n",
      " 'job_growth_min_12',\n",
      " 'avg_weeks_unemp',\n",
      " 'emp_pop_ratio',\n",
      " 'lbr_frc_prtcp',\n",
      " 'not_in_lbr_frc',\n",
      " 'totl_emp_payrl',\n",
      " 'unemp_rate',\n",
      " 'fed_fund_rate',\n",
      " 'mortgage_rate',\n",
      " 'cpi_idx',\n",
      " 'cpi_index_min_1',\n",
      " 'cpi_index_min_3',\n",
      " 'cpi_index_min_6',\n",
      " 'cpi_index_min_12',\n",
      " 'export_idx',\n",
      " 'import_idx',\n",
      " 'taxes',\n",
      " 'taxes_min_1',\n",
      " 'taxes_min_3',\n",
      " 'taxes_min_6',\n",
      " 'taxes_min_12',\n",
      " 'spending',\n",
      " 'spending_min_1',\n",
      " 'spending_min_3',\n",
      " 'spending_min_6',\n",
      " 'spending_min_12']\n",
      "X = empl_data[feature_cols]\n",
      "y = empl_data['job_growth']"
     ],
     "language": "python",
     "metadata": {},
     "outputs": [],
     "prompt_number": 18
    },
    {
     "cell_type": "code",
     "collapsed": false,
     "input": [
      "regr.fit(X, y)"
     ],
     "language": "python",
     "metadata": {},
     "outputs": [
      {
       "metadata": {},
       "output_type": "pyout",
       "prompt_number": 19,
       "text": [
        "Lasso(alpha=0.3, copy_X=True, fit_intercept=True, max_iter=1000,\n",
        "   normalize=False, positive=False, precompute='auto', tol=0.0001,\n",
        "   warm_start=False)"
       ]
      }
     ],
     "prompt_number": 19
    },
    {
     "cell_type": "code",
     "collapsed": false,
     "input": [
      "regr.score(X,y)"
     ],
     "language": "python",
     "metadata": {},
     "outputs": [
      {
       "metadata": {},
       "output_type": "pyout",
       "prompt_number": 24,
       "text": [
        "0.24025627272146721"
       ]
      }
     ],
     "prompt_number": 24
    },
    {
     "cell_type": "code",
     "collapsed": false,
     "input": [
      "regr.coef_"
     ],
     "language": "python",
     "metadata": {},
     "outputs": [
      {
       "metadata": {},
       "output_type": "pyout",
       "prompt_number": 20,
       "text": [
        "array([  0.00000000e+00,   0.00000000e+00,   0.00000000e+00,\n",
        "         0.00000000e+00,   8.03984485e-03,   0.00000000e+00,\n",
        "        -0.00000000e+00,   2.87458611e-04,   3.11837998e-05,\n",
        "        -0.00000000e+00,   0.00000000e+00,  -0.00000000e+00,\n",
        "        -0.00000000e+00,  -0.00000000e+00,  -0.00000000e+00,\n",
        "        -0.00000000e+00,  -0.00000000e+00,   0.00000000e+00,\n",
        "         0.00000000e+00,  -4.54083370e-07,  -4.72029232e-07,\n",
        "        -1.37079301e-07,  -7.45042452e-07,  -4.20317310e-07,\n",
        "        -1.79906363e-06,  -1.35544634e-06,  -1.77981275e-07,\n",
        "         5.65260857e-07,  -5.88612741e-07])"
       ]
      }
     ],
     "prompt_number": 20
    },
    {
     "cell_type": "code",
     "collapsed": false,
     "input": [
      "X_test = test_data[feature_cols]\n",
      "y_test = test_data['job_growth']"
     ],
     "language": "python",
     "metadata": {},
     "outputs": [],
     "prompt_number": 22
    },
    {
     "cell_type": "code",
     "collapsed": false,
     "input": [
      "regr.score(X_test, y_test)"
     ],
     "language": "python",
     "metadata": {},
     "outputs": [
      {
       "metadata": {},
       "output_type": "pyout",
       "prompt_number": 23,
       "text": [
        "-21.966515138132593"
       ]
      }
     ],
     "prompt_number": 23
    },
    {
     "cell_type": "code",
     "collapsed": false,
     "input": [],
     "language": "python",
     "metadata": {},
     "outputs": []
    }
   ],
   "metadata": {}
  }
 ]
}